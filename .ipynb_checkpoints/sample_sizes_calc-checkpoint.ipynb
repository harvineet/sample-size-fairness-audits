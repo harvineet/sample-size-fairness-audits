{
 "cells": [
  {
   "cell_type": "code",
   "execution_count": 1,
   "id": "8572d965-df04-4f3e-9e1a-42ca4a38c4f3",
   "metadata": {},
   "outputs": [],
   "source": [
    "%load_ext autoreload\n",
    "%autoreload 2"
   ]
  },
  {
   "cell_type": "code",
   "execution_count": 2,
   "id": "504e4016-a27a-4eb3-97b1-56d2c52c7b5a",
   "metadata": {},
   "outputs": [],
   "source": [
    "import numpy as np\n",
    "import argparse\n",
    "from functools import partial\n",
    "from joblib import Parallel, delayed\n",
    "from datetime import datetime\n",
    "import os\n",
    "from pathlib import Path\n",
    "import torch\n",
    "from scipy.stats import norm\n",
    "\n",
    "from folktables import ACSDataSource, ACSPublicCoverage\n",
    "from folktables import BasicProblem\n",
    "\n",
    "import matplotlib.pyplot as plt\n",
    "import seaborn as sns\n",
    "import pandas as pd\n",
    "import json\n",
    "\n",
    "from data import *"
   ]
  },
  {
   "cell_type": "code",
   "execution_count": 3,
   "id": "05119eb9-38d3-4049-b99b-2f1e5d159342",
   "metadata": {},
   "outputs": [],
   "source": [
    "def get_confusion_matrix(Yhat, Y):\n",
    "    n = Y.shape[0]\n",
    "    P = (Y==True).sum()  # positives\n",
    "    PP = (Yhat==True).sum()  # positive predictions\n",
    "    TP = ((Yhat==True) & (Y==True)).sum()  # true positives\n",
    "    TN = ((Yhat==False) & (Y==False)).sum()  # true negatives\n",
    "    M_P = P/n\n",
    "    M_PP = PP/n\n",
    "    M_TPR = TP/P\n",
    "    M_TNR = TN/(n-P)\n",
    "    M_PPV = TP/PP\n",
    "    M_NPV = TN/(n-PP)\n",
    "    var_PP = M_PP * (1-M_PP)\n",
    "    var_TPR = 1/M_P * M_TPR*(1-M_TPR)\n",
    "    var_TNR = 1/(1-M_P) * M_TNR*(1-M_TNR)\n",
    "    var_PPV = 1/M_PP * M_TPR*(1-M_TPR)\n",
    "    var_NPV = 1/(1-M_PP) * M_TNR*(1-M_TNR)\n",
    "    return {'M_P': M_P, 'M_PP': M_PP, 'M_TPR': M_TPR, 'M_TNR': M_TNR, 'M_PPV': M_PPV, 'M_NPV': M_NPV,\n",
    "           'var_PP': var_PP, 'var_TPR': var_TPR, 'var_TNR': var_TNR, 'var_PPV': var_PPV, 'var_NPV': var_NPV}"
   ]
  },
  {
   "cell_type": "markdown",
   "id": "e7a0ae20-6d38-47e0-b6c4-4d00bae131db",
   "metadata": {},
   "source": [
    "# Preparing ACS data"
   ]
  },
  {
   "cell_type": "code",
   "execution_count": 4,
   "id": "062d5bf8-5773-4e30-9c5b-5783012f9014",
   "metadata": {},
   "outputs": [],
   "source": [
    "ACS_RACE_CODE = {\n",
    "    'White': 1,\n",
    "    'BlackorAA': 2,\n",
    "    'Asian': 6,\n",
    "}"
   ]
  },
  {
   "cell_type": "code",
   "execution_count": 5,
   "id": "3c9bb5d1-8a9a-4df3-83c5-c44afced204d",
   "metadata": {},
   "outputs": [],
   "source": [
    "us_state = 'CA'\n",
    "outcome = 'income_binary'\n",
    "group = 'BlackorAA'\n",
    "\n",
    "data_source = ACSDataSource(survey_year='2018', horizon='1-Year', survey='person',\n",
    "                              root_dir='data')\n",
    "data = data_source.get_data(states=['CA'], download=True)"
   ]
  },
  {
   "cell_type": "code",
   "execution_count": 6,
   "id": "49ce7a3a-1862-433e-9607-4cf1917879e7",
   "metadata": {},
   "outputs": [],
   "source": [
    "ACSQuery = create_acs_query_object_model(outcome)\n",
    "X_acs, Y_acs, G_acs = ACSQuery.df_to_pandas(data)\n",
    "Y_acs = Y_acs.to_numpy().squeeze()\n",
    "G_acs = G_acs.to_numpy().squeeze()"
   ]
  },
  {
   "cell_type": "code",
   "execution_count": 7,
   "id": "cd2bfa39-8538-4815-8d10-527a9c24dba2",
   "metadata": {},
   "outputs": [
    {
     "name": "stdout",
     "output_type": "stream",
     "text": [
      "Counts and Y mean per group [(1, 121006, 0.4433664446391088), (2, 8557, 0.3448638541544934), (3, 1294, 0.2836166924265842), (4, 13, 0.38461538461538464), (5, 450, 0.21333333333333335), (6, 32709, 0.4805099513895258), (7, 637, 0.29827315541601257), (8, 22793, 0.19427017066643268), (9, 8206, 0.3571776748720448)]\n"
     ]
    }
   ],
   "source": [
    "# Remove rows with nan target value\n",
    "nan_indices = np.isnan(Y_acs)\n",
    "X_acs = X_acs[~nan_indices]\n",
    "Y_acs = Y_acs[~nan_indices]\n",
    "G_acs = G_acs[~nan_indices]\n",
    "\n",
    "Y_acs = Y_acs.astype(bool)\n",
    "print(\"Counts and Y mean per group\", [(i, np.sum(G_acs==i), Y_acs[G_acs==i].mean()) for i in np.unique(G_acs)])"
   ]
  },
  {
   "cell_type": "code",
   "execution_count": 8,
   "id": "abb0047e-37eb-43b7-a424-3161abda7770",
   "metadata": {},
   "outputs": [],
   "source": [
    "group_code = ACS_RACE_CODE[group]\n",
    "subset_by_race = np.isin(G_acs, [1,group_code])\n",
    "X_acs = X_acs[subset_by_race]\n",
    "G_acs = G_acs[subset_by_race]\n",
    "Y_acs = Y_acs[subset_by_race]\n",
    "G_acs = (G_acs==group_code).astype(int)\n",
    "X_acs = X_acs.drop(['PWGTP','FHISP'], axis=1)"
   ]
  },
  {
   "cell_type": "code",
   "execution_count": 9,
   "id": "aaa8cdd0-7dd2-43a5-9cea-2cdb13936752",
   "metadata": {},
   "outputs": [],
   "source": [
    "X_train, X_test, Y_train, Y_test, G_train, G_test = train_test_split(\n",
    "        X_acs, Y_acs, G_acs, test_size=0.3, random_state=0)"
   ]
  },
  {
   "cell_type": "code",
   "execution_count": 10,
   "id": "39590d44-9616-4a70-9f65-bd3e0ccb4e3c",
   "metadata": {},
   "outputs": [
    {
     "name": "stdout",
     "output_type": "stream",
     "text": [
      "n 38869 n1 2562 G 0.07\n"
     ]
    }
   ],
   "source": [
    "print('n %d n1 %d G %0.2f' % (X_test.shape[0], G_test.sum(), G_test.mean()))"
   ]
  },
  {
   "cell_type": "markdown",
   "id": "adcbc841-b795-44bb-9f6a-9f1d66c942c6",
   "metadata": {},
   "source": [
    "# Train classification model"
   ]
  },
  {
   "cell_type": "code",
   "execution_count": 11,
   "id": "7a6b3e9d-fa87-44e3-aac2-3cbea21d41b0",
   "metadata": {},
   "outputs": [],
   "source": [
    "model = make_pipeline(StandardScaler(), GradientBoostingClassifier())\n",
    "model.fit(X_train, Y_train)\n",
    "Yhat = model.predict(X_test)"
   ]
  },
  {
   "cell_type": "code",
   "execution_count": 12,
   "id": "89201a33-eb77-4980-a8ec-024101a50e1d",
   "metadata": {},
   "outputs": [],
   "source": [
    "G1_idx = (G_test==1)\n",
    "G1_matrix = get_confusion_matrix(Yhat[G1_idx], Y_test[G1_idx])\n",
    "G0_matrix = get_confusion_matrix(Yhat[~G1_idx], Y_test[~G1_idx])"
   ]
  },
  {
   "cell_type": "code",
   "execution_count": 13,
   "id": "fc665515-cc1c-4ca1-b14b-6729250867cb",
   "metadata": {},
   "outputs": [
    {
     "name": "stdout",
     "output_type": "stream",
     "text": [
      "0.22077261434001172 0.6220315517099292 0.18463855866324966 0.6574497183553345 0.17948285719970342\n",
      "0.24687845720238097 0.37752457961498664 0.25498979736120814 0.3743639087158845 0.25669545699076723\n"
     ]
    }
   ],
   "source": [
    "print(G1_matrix['var_PP'],G1_matrix['var_TPR'],G1_matrix['var_TNR'],G1_matrix['var_PPV'],G1_matrix['var_NPV'])\n",
    "print(G0_matrix['var_PP'],G0_matrix['var_TPR'],G0_matrix['var_TNR'],G0_matrix['var_PPV'],G0_matrix['var_NPV'])"
   ]
  },
  {
   "cell_type": "code",
   "execution_count": 14,
   "id": "0defc210-ba23-4622-aa49-842e7e8cde48",
   "metadata": {},
   "outputs": [
    {
     "name": "stdout",
     "output_type": "stream",
     "text": [
      "metric DP -0.092636, TPR -0.105867, TNR 0.032381, PPV -0.060340, NPV 0.002833\n",
      "variance DP 0.934573, TPR 1.968746, TNR 0.873591, PPV 2.024034, NPV 0.865468\n"
     ]
    }
   ],
   "source": [
    "U_DP = G1_matrix['M_P'] - G0_matrix['M_P']\n",
    "U_TPR = G1_matrix['M_TPR'] - G0_matrix['M_TPR']\n",
    "U_TNR = G1_matrix['M_TNR'] - G0_matrix['M_TNR']\n",
    "U_PPV = G1_matrix['M_PPV'] - G0_matrix['M_PPV']\n",
    "U_NPV = G1_matrix['M_NPV'] - G0_matrix['M_NPV']\n",
    "\n",
    "var_U_DP = (np.sqrt(G1_matrix['var_PP']) + np.sqrt(G0_matrix['var_PP']))**2\n",
    "var_U_TPR = (np.sqrt(G1_matrix['var_TPR']) + np.sqrt(G0_matrix['var_TPR']))**2\n",
    "var_U_TNR = (np.sqrt(G1_matrix['var_TNR']) + np.sqrt(G0_matrix['var_TNR']))**2\n",
    "var_U_PPV = (np.sqrt(G1_matrix['var_PPV']) + np.sqrt(G0_matrix['var_PPV']))**2\n",
    "var_U_NPV = (np.sqrt(G1_matrix['var_NPV']) + np.sqrt(G0_matrix['var_NPV']))**2\n",
    "\n",
    "print('metric DP %f, TPR %f, TNR %f, PPV %f, NPV %f' % (U_DP,U_TPR,U_TNR,U_PPV,U_NPV))\n",
    "print('variance DP %f, TPR %f, TNR %f, PPV %f, NPV %f' % (var_U_DP,var_U_TPR,var_U_TNR,var_U_PPV,var_U_NPV))\n",
    "\n",
    "U_DP,U_TPR,U_TNR,U_PPV,U_NPV = np.abs(U_DP),np.abs(U_TPR),np.abs(U_TNR),np.abs(U_PPV),np.abs(U_NPV)"
   ]
  },
  {
   "cell_type": "code",
   "execution_count": 15,
   "id": "549e2da9-f592-4d4c-bb7e-33bbe4a393e4",
   "metadata": {},
   "outputs": [
    {
     "name": "stdout",
     "output_type": "stream",
     "text": [
      "DP G1 0.3478, G0 0.4404\n",
      "DP var G1 0.2268, G0 0.2464\n"
     ]
    }
   ],
   "source": [
    "print('DP G1 %0.04f, G0 %0.04f' % (G1_matrix['M_P'],G0_matrix['M_P']))\n",
    "print('DP var G1 %0.04f, G0 %0.04f' % (G1_matrix['M_P']*(1-G1_matrix['M_P']),G0_matrix['M_P']*(1-G0_matrix['M_P'])))"
   ]
  },
  {
   "cell_type": "code",
   "execution_count": 16,
   "id": "d84eceb0-3d0a-4d07-b380-cd3918b5ed33",
   "metadata": {},
   "outputs": [
    {
     "data": {
      "text/plain": [
       "0.9456182391740716"
      ]
     },
     "execution_count": 16,
     "metadata": {},
     "output_type": "execute_result"
    }
   ],
   "source": [
    "(np.sqrt(0.227)+np.sqrt(0.246))**2"
   ]
  },
  {
   "cell_type": "code",
   "execution_count": 17,
   "id": "7a07d700-e49e-4b8e-8bc3-9ae6354691a1",
   "metadata": {},
   "outputs": [
    {
     "data": {
      "text/plain": [
       "858.4854004733769"
      ]
     },
     "execution_count": 17,
     "metadata": {},
     "output_type": "execute_result"
    }
   ],
   "source": [
    "alpha=0.05\n",
    "beta=0.2\n",
    "(norm.ppf(1-alpha/2)+norm.ppf(1-beta))**2 * 0.946 / 0.093**2"
   ]
  },
  {
   "cell_type": "code",
   "execution_count": 18,
   "id": "815441e3-61e7-4ead-9349-5c31d8196a52",
   "metadata": {},
   "outputs": [
    {
     "name": "stdout",
     "output_type": "stream",
     "text": [
      "TPR G1 0.68, G0 0.79\n"
     ]
    }
   ],
   "source": [
    "print('TPR G1 %0.2f, G0 %0.2f' % (G1_matrix['M_TPR'],G0_matrix['M_TPR']))"
   ]
  },
  {
   "cell_type": "code",
   "execution_count": 19,
   "id": "91c8b4ae-fac9-438a-bf0c-fe4df3932409",
   "metadata": {},
   "outputs": [
    {
     "name": "stdout",
     "output_type": "stream",
     "text": [
      "Accuracy 0.81, G1 0.80, G0 0.81\n"
     ]
    }
   ],
   "source": [
    "print('Accuracy %0.2f, G1 %0.2f, G0 %0.2f' % ((Yhat==Y_test).mean(),(Yhat[G1_idx]==Y_test[G1_idx]).mean(),(Yhat[~G1_idx]==Y_test[~G1_idx]).mean()))"
   ]
  },
  {
   "cell_type": "markdown",
   "id": "f67c71bf-8eb5-43af-9d0b-05ba93ee60ef",
   "metadata": {},
   "source": [
    "# Get sample sizes"
   ]
  },
  {
   "cell_type": "code",
   "execution_count": 20,
   "id": "888cde91-eb05-4d9d-b4cd-dc0142a7c717",
   "metadata": {},
   "outputs": [],
   "source": [
    "def get_sample_size(alpha, beta, var, Utol, tau):\n",
    "    return (norm.ppf(1-alpha/2)+norm.ppf(1-beta))**2 * var / (tau-Utol)**2"
   ]
  },
  {
   "cell_type": "code",
   "execution_count": 21,
   "id": "f46d49d7-5006-47b8-bec1-6a745bcf8e90",
   "metadata": {},
   "outputs": [
    {
     "name": "stdout",
     "output_type": "stream",
     "text": [
      "DP & 0.09 & 854.80\n",
      "TPR & 0.11 & 1378.73\n",
      "TNR & 0.03 & 6539.25\n",
      "PPV & 0.06 & 4363.33\n",
      "NPV & 0.003 & 846670.97\n"
     ]
    }
   ],
   "source": [
    "alpha = 0.05\n",
    "beta = 0.2\n",
    "Utol = 0\n",
    "tau_fraction = 1\n",
    "\n",
    "n_DP = get_sample_size(alpha, beta, var=var_U_DP, Utol=Utol, tau=tau_fraction*U_DP)\n",
    "n_TPR = get_sample_size(alpha, beta, var=var_U_TPR, Utol=Utol, tau=tau_fraction*U_TPR)\n",
    "n_TNR = get_sample_size(alpha, beta, var=var_U_TNR, Utol=Utol, tau=tau_fraction*U_TNR)\n",
    "n_PPV = get_sample_size(alpha, beta, var=var_U_PPV, Utol=Utol, tau=tau_fraction*U_PPV)\n",
    "n_NPV = get_sample_size(alpha, beta, var=var_U_NPV, Utol=Utol, tau=tau_fraction*U_NPV)\n",
    "\n",
    "print('DP & %0.2f & %0.2f' % (U_DP,n_DP))\n",
    "print('TPR & %0.2f & %0.2f' % (U_TPR,n_TPR))\n",
    "print('TNR & %0.2f & %0.2f' % (U_TNR,n_TNR))\n",
    "print('PPV & %0.2f & %0.2f' % (U_PPV,n_PPV))\n",
    "print('NPV & %0.3f & %0.2f' % (U_NPV,n_NPV))"
   ]
  },
  {
   "cell_type": "code",
   "execution_count": null,
   "id": "6a8fe497-e00f-4f6c-a04d-8b336191de84",
   "metadata": {},
   "outputs": [],
   "source": []
  }
 ],
 "metadata": {
  "kernelspec": {
   "display_name": "Python 3 (ipykernel)",
   "language": "python",
   "name": "python3"
  },
  "language_info": {
   "codemirror_mode": {
    "name": "ipython",
    "version": 3
   },
   "file_extension": ".py",
   "mimetype": "text/x-python",
   "name": "python",
   "nbconvert_exporter": "python",
   "pygments_lexer": "ipython3",
   "version": "3.8.2"
  }
 },
 "nbformat": 4,
 "nbformat_minor": 5
}
